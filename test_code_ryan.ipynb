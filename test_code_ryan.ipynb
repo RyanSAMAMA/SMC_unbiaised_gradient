{
 "cells": [
  {
   "cell_type": "markdown",
   "metadata": {},
   "source": [
    "# Projet de Simulation et Monte Carlo  \n",
    "  \n",
    "  Ce projet se base sur l'arcticle de Yuyang Shi et Rob Cornish : On Multilevel Monte Carlo Unbiased Gradient Estimation For Deep Latent Variable Models (2021) http://proceedings.mlr.press/v130/shi21d.html"
   ]
  },
  {
   "cell_type": "code",
   "execution_count": 93,
   "metadata": {},
   "outputs": [],
   "source": [
    "import numpy as np\n",
    "from scipy.stats import multivariate_normal\n",
    "from scipy.special import logsumexp\n",
    "import matplotlib.pyplot as plt\n",
    "import random"
   ]
  },
  {
   "cell_type": "markdown",
   "metadata": {},
   "source": [
    "## Partie 1 : Génération des données \n",
    "Comme dit dans l'article, nous étudions les modèles à variables latentes. pour pouvoir générer les données, nous considérerons une expérience gaussienne linéaire de la même manière que Rainforth et al. (2018) et Tucker et al. (2019)  \n",
    "\n",
    "   On considère le modèle génératif suivant : $p_{\\theta}(x,z)= \\mathcal{N}(z|\\theta,I)\\mathcal{N}(x|z,I)$ où $x,z \\in \\mathbb{R^{20}}$ tel que $p_{\\theta}(x)= \\mathcal{N}(x|\\theta,2I)$ et $p_{\\theta}(z|x)= \\mathcal{N}(\\frac{\\theta+x}{2},\\frac{1}{2}I)$. La distribution de l'encodeur est $q_{\\phi}(z|x)=\\mathcal{N}(z|Ax+b,\\frac{2}{3}I)$, où $\\phi = (A,b)$. On considère une perturbation aléatoire des paramètres autour de la valeur optimale par une gaussienne centré de variance 0.01.\n",
    "    "
   ]
  },
  {
   "cell_type": "code",
   "execution_count": 94,
   "metadata": {},
   "outputs": [
    {
     "name": "stdout",
     "output_type": "stream",
     "text": [
      "theta = 1.3133940172700165\n"
     ]
    }
   ],
   "source": [
    "theta = np.random.normal(0, 1)\n",
    "theta_vector = np.zeros(20)+theta\n",
    "r = 0.6\n",
    "A_true = 1/2*np.eye(20)\n",
    "b_true = np.zeros(20)+theta/2\n",
    "X_data = multivariate_normal.rvs(theta_vector, 2*np.eye(20))\n",
    "print('theta = ' + str(theta))"
   ]
  },
  {
   "cell_type": "code",
   "execution_count": 95,
   "metadata": {},
   "outputs": [],
   "source": [
    "def parameter_perturbation(A, b):\n",
    "    return A+np.eye(20)*np.random.normal(0, 0.01), b+np.random.normal(0, 0.01)"
   ]
  },
  {
   "cell_type": "code",
   "execution_count": 96,
   "metadata": {},
   "outputs": [],
   "source": [
    "def generate_z(K, A, b, x):\n",
    "    Z = []\n",
    "    for i in range(2**(K+1)):\n",
    "        Z.append(multivariate_normal.rvs(np.dot(A,x)+b, 2/3*np.eye(20)))\n",
    "    Z_O = Z[1::2]\n",
    "    Z_E = Z[::2]\n",
    "    return Z,Z_O,Z_E"
   ]
  },
  {
   "cell_type": "code",
   "execution_count": 97,
   "metadata": {},
   "outputs": [],
   "source": [
    "def q_phi(z, A, b, K, x):\n",
    "    q = []\n",
    "    for i in range(2**(K+1)):\n",
    "        q.append(multivariate_normal.pdf(z[i], np.dot(A,x)+b, 2/3*np.eye(20)))\n",
    "    return np.array(q)"
   ]
  },
  {
   "cell_type": "code",
   "execution_count": 98,
   "metadata": {},
   "outputs": [],
   "source": [
    "def p_joint(z, K, x, mu):\n",
    "    p = []\n",
    "    mu_vector = np.zeros(20)+mu\n",
    "    for i in range(2**(K+1)):\n",
    "        p.append(multivariate_normal.pdf(z[i], mu_vector, np.eye(20))*multivariate_normal.pdf(x,z[i],np.eye(20)))\n",
    "    return np.array(p)"
   ]
  },
  {
   "cell_type": "markdown",
   "metadata": {},
   "source": [
    "## Partie 2 : Estimation de la vraisemblance  \n",
    "  \n",
    "  Dans cette partie, nous allons reproduire les estimateurs IWAE, SS, RR et SUMO cités dans l'article"
   ]
  },
  {
   "cell_type": "markdown",
   "metadata": {},
   "source": [
    "### 1) Estimateur SS"
   ]
  },
  {
   "cell_type": "code",
   "execution_count": 109,
   "metadata": {},
   "outputs": [],
   "source": [
    "def SS_estimator(A, b, x, mu, N_sim):\n",
    "    list_ss = []\n",
    "    for i in range(N_sim):\n",
    "        K = np.random.geometric(r)\n",
    "        Z_data, Z_data_O, Z_data_E = generate_z(K, A, b, x)\n",
    "        q = q_phi(Z_data, A, b, K, x)\n",
    "        p = p_joint(Z_data, K, x, mu)\n",
    "        w = p/q\n",
    "        log_w = np.log(w)\n",
    "        log_w_O = log_w[1::2]\n",
    "        log_w_E = log_w[::2]\n",
    "        I0 = np.mean(log_w)\n",
    "        l_O = logsumexp(log_w_O) - np.log(len(log_w_O))\n",
    "        l_E = logsumexp(log_w_E) - np.log(len(log_w_E))\n",
    "        l_OUE = logsumexp(log_w) - np.log(len(log_w))\n",
    "        delta_K = l_OUE - 0.5*(l_O + l_E)\n",
    "        list_ss.append(I0 + delta_K/(r*(1-r)**(K-1)))\n",
    "    return np.mean(list_ss)"
   ]
  },
  {
   "cell_type": "code",
   "execution_count": 111,
   "metadata": {},
   "outputs": [
    {
     "data": {
      "text/plain": [
       "-36.071893716659424"
      ]
     },
     "execution_count": 111,
     "metadata": {},
     "output_type": "execute_result"
    }
   ],
   "source": [
    "SS_estimator(A_true, b_true, X_data, 1.31,1000)"
   ]
  },
  {
   "cell_type": "code",
   "execution_count": null,
   "metadata": {},
   "outputs": [],
   "source": []
  },
  {
   "cell_type": "code",
   "execution_count": 113,
   "metadata": {},
   "outputs": [
    {
     "data": {
      "text/plain": [
       "[-261.24648435586084,\n",
       " -263.22779261276634,\n",
       " -257.2742663840321,\n",
       " -246.66102203586564,\n",
       " -148.61404419368534,\n",
       " -225.68668325600345,\n",
       " -225.5926543848682,\n",
       " -225.09281847527993,\n",
       " -199.3925791344114,\n",
       " 231.10363306071707,\n",
       " -155.82292467156668,\n",
       " -167.85337349864287,\n",
       " -183.29666735587932,\n",
       " -184.56827494039953,\n",
       " -175.70090472802028,\n",
       " -161.90740823575388,\n",
       " -155.98769172395993,\n",
       " -157.50633959087472,\n",
       " -151.66982265766865,\n",
       " -138.8018558709279,\n",
       " -128.47083886675645,\n",
       " -138.13678006166384,\n",
       " -95.76269000847321,\n",
       " -106.02337578393288,\n",
       " -118.35108793704062,\n",
       " -104.69309031798608,\n",
       " -103.84417293066164,\n",
       " -91.31426528751275,\n",
       " -88.54332136053041,\n",
       " -101.80061931747427,\n",
       " -93.39794413610116,\n",
       " -90.41517534648568,\n",
       " -86.55215777037061,\n",
       " -80.13306382698416,\n",
       " -64.84832834783374,\n",
       " -78.10542331670639,\n",
       " -70.51600253286762,\n",
       " 9.842955535602185,\n",
       " -66.37961885132337,\n",
       " -66.30421791610851,\n",
       " -37.11133052941376,\n",
       " -62.479876772270785,\n",
       " -54.49557815158007,\n",
       " -58.09927971270634,\n",
       " -54.326123112258536,\n",
       " -52.728105915129646,\n",
       " -46.4425149094319,\n",
       " -48.76105252856317,\n",
       " -43.59737250028634,\n",
       " -44.67227952915294,\n",
       " -43.02721780252867,\n",
       " -43.14696583774363,\n",
       " -41.77130696603114,\n",
       " -39.98751493421942,\n",
       " -39.14807115001022,\n",
       " -38.0783472855599,\n",
       " -38.36746025046501,\n",
       " -37.27523794101616,\n",
       " -36.75874989587879,\n",
       " -36.42758952922199,\n",
       " -36.4251944917592,\n",
       " -35.914553827765154,\n",
       " -35.81867236534732,\n",
       " -35.910345208030996,\n",
       " -35.8860692271396,\n",
       " -35.9035037549316,\n",
       " -36.0405357097601,\n",
       " -36.30938732911173,\n",
       " -36.85896305358943,\n",
       " -37.362922251527515,\n",
       " -37.915808882317286,\n",
       " -38.59605568705024,\n",
       " -39.27758976918302,\n",
       " -39.92261715485344,\n",
       " -41.28309789722145,\n",
       " -42.266968923454776,\n",
       " -42.94138488525366,\n",
       " -44.83859945099125,\n",
       " -45.06085587333342,\n",
       " -47.68586801271132,\n",
       " -49.355582135478016,\n",
       " -50.0297921479269,\n",
       " -52.14039805915058,\n",
       " -54.12614255576429,\n",
       " -56.89001600100817,\n",
       " -58.661442487134025,\n",
       " -60.06999844280738,\n",
       " -64.676024114379,\n",
       " -63.92995930890047,\n",
       " -67.23963757952146,\n",
       " -72.45108743992475,\n",
       " -70.5562734862628,\n",
       " -78.36328020368238,\n",
       " -74.01540031047792,\n",
       " -86.63101543860165,\n",
       " -17.912392220346433,\n",
       " -91.6169120883689,\n",
       " -87.41051446406074,\n",
       " -96.33237711128953,\n",
       " -105.00103934443455]"
      ]
     },
     "execution_count": 113,
     "metadata": {},
     "output_type": "execute_result"
    }
   ],
   "source": [
    "u = np.linspace(-4,4,100)\n",
    "A_perturbed, b_perturbed = parameter_perturbation(A_true, b_true)\n",
    "VD = []\n",
    "for i in range(100):\n",
    "    VD.append(SS_estimator(A_true, b_true, X_data, u[i],100))\n",
    "VD"
   ]
  },
  {
   "cell_type": "code",
   "execution_count": 114,
   "metadata": {},
   "outputs": [
    {
     "data": {
      "text/plain": [
       "[<matplotlib.lines.Line2D at 0x11c754850>]"
      ]
     },
     "execution_count": 114,
     "metadata": {},
     "output_type": "execute_result"
    },
    {
     "data": {
      "image/png": "[encoded data removed]",
      "text/plain": [
       "<Figure size 640x480 with 1 Axes>"
      ]
     },
     "metadata": {},
     "output_type": "display_data"
    }
   ],
   "source": [
    "plt.plot(u,VD)"
   ]
  },
  {
   "cell_type": "code",
   "execution_count": 115,
   "metadata": {},
   "outputs": [
    {
     "data": {
      "text/plain": [
       "array([ 2.32410059,  1.72133206,  3.02204085,  1.28039502,  3.20599295,\n",
       "        0.1306061 , -0.42252324,  1.00207099,  1.19673111,  1.1187402 ,\n",
       "        1.5187491 , -2.09486165,  2.27496383, -2.02530546,  1.04995631,\n",
       "       -0.92943052,  1.92954144,  1.80214269,  0.65664019,  1.50669538])"
      ]
     },
     "execution_count": 115,
     "metadata": {},
     "output_type": "execute_result"
    }
   ],
   "source": [
    "X_data"
   ]
  },
  {
   "cell_type": "code",
   "execution_count": 116,
   "metadata": {},
   "outputs": [],
   "source": [
    "def log_likelihood(X_data,mu):\n",
    "    mu_vector = np.zeros(20)+mu\n",
    "    return -10*np.log(2*np.pi)-0.5*np.log(4)-0.5*np.dot(np.transpose(X_data-mu_vector),X_data-mu_vector)"
   ]
  },
  {
   "cell_type": "code",
   "execution_count": 117,
   "metadata": {},
   "outputs": [
    {
     "data": {
      "text/plain": [
       "[-290.60083346667193,\n",
       " -282.5636215771256,\n",
       " -274.657008606057,\n",
       " -266.8809945534662,\n",
       " -259.235579419353,\n",
       " -251.72076320371747,\n",
       " -244.33654590655973,\n",
       " -237.08292752787963,\n",
       " -229.95990806767728,\n",
       " -222.9674875259526,\n",
       " -216.1056659027057,\n",
       " -209.37444319793644,\n",
       " -202.7738194116449,\n",
       " -196.30379454383106,\n",
       " -189.96436859449494,\n",
       " -183.75554156363654,\n",
       " -177.6773134512558,\n",
       " -171.72968425735283,\n",
       " -165.91265398192755,\n",
       " -160.2262226249799,\n",
       " -154.67039018651002,\n",
       " -149.24515666651786,\n",
       " -143.95052206500338,\n",
       " -138.7864863819666,\n",
       " -133.75304961740758,\n",
       " -128.8502117713262,\n",
       " -124.07797284372255,\n",
       " -119.43633283459661,\n",
       " -114.92529174394839,\n",
       " -110.54484957177786,\n",
       " -106.29500631808503,\n",
       " -102.17576198286993,\n",
       " -98.18711656613252,\n",
       " -94.32907006787282,\n",
       " -90.60162248809083,\n",
       " -87.00477382678652,\n",
       " -83.53852408395996,\n",
       " -80.20287325961107,\n",
       " -76.99782135373991,\n",
       " -73.92336836634644,\n",
       " -70.97951429743068,\n",
       " -68.16625914699263,\n",
       " -65.4836029150323,\n",
       " -62.931545601549644,\n",
       " -60.51008720654471,\n",
       " -58.219227730017494,\n",
       " -56.058967171967964,\n",
       " -54.029305532396165,\n",
       " -52.130242811302054,\n",
       " -50.36177900868566,\n",
       " -48.72391412454696,\n",
       " -47.21664815888596,\n",
       " -45.83998111170269,\n",
       " -44.593912982997125,\n",
       " -43.47844377276924,\n",
       " -42.493573481019084,\n",
       " -41.63930210774663,\n",
       " -40.915629652951885,\n",
       " -40.32255611663484,\n",
       " -39.86008149879551,\n",
       " -39.52820579943388,\n",
       " -39.326929018549954,\n",
       " -39.25625115614373,\n",
       " -39.31617221221522,\n",
       " -39.50669218676442,\n",
       " -39.82781107979132,\n",
       " -40.27952889129593,\n",
       " -40.86184562127825,\n",
       " -41.57476126973827,\n",
       " -42.418275836676,\n",
       " -43.39238932209144,\n",
       " -44.49710172598457,\n",
       " -45.73241304835541,\n",
       " -47.098323289203975,\n",
       " -48.59483244853023,\n",
       " -50.22194052633421,\n",
       " -51.97964752261586,\n",
       " -53.867953437375235,\n",
       " -55.886858270612336,\n",
       " -58.036362022327125,\n",
       " -60.31646469251963,\n",
       " -62.727166281189824,\n",
       " -65.26846678833775,\n",
       " -67.94036621396336,\n",
       " -70.74286455806666,\n",
       " -73.67596182064771,\n",
       " -76.73965800170643,\n",
       " -79.9339531012429,\n",
       " -83.25884711925704,\n",
       " -86.71434005574892,\n",
       " -90.30043191071844,\n",
       " -94.0171226841657,\n",
       " -97.86441237609071,\n",
       " -101.84230098649337,\n",
       " -105.95078851537379,\n",
       " -110.18987496273188,\n",
       " -114.55956032856764,\n",
       " -119.05984461288116,\n",
       " -123.69072781567236,\n",
       " -128.45220993694124]"
      ]
     },
     "execution_count": 117,
     "metadata": {},
     "output_type": "execute_result"
    }
   ],
   "source": [
    "HG = []\n",
    "for i in range(100):\n",
    "    HG.append(log_likelihood(X_data,u[i]))\n",
    "HG"
   ]
  },
  {
   "cell_type": "code",
   "execution_count": 119,
   "metadata": {},
   "outputs": [
    {
     "data": {
      "text/plain": [
       "[<matplotlib.lines.Line2D at 0x11c8ddd10>]"
      ]
     },
     "execution_count": 119,
     "metadata": {},
     "output_type": "execute_result"
    },
    {
     "data": {
      "image/png": "[encoded data removed]",
      "text/plain": [
       "<Figure size 640x480 with 1 Axes>"
      ]
     },
     "metadata": {},
     "output_type": "display_data"
    }
   ],
   "source": [
    "plt.plot(u,HG)\n",
    "plt.plot(u,VD)"
   ]
  }
 ],
 "metadata": {
  "kernelspec": {
   "display_name": "base",
   "language": "python",
   "name": "python3"
  },
  "language_info": {
   "codemirror_mode": {
    "name": "ipython",
    "version": 3
   },
   "file_extension": ".py",
   "mimetype": "text/x-python",
   "name": "python",
   "nbconvert_exporter": "python",
   "pygments_lexer": "ipython3",
   "version": "3.11.5"
  }
 },
 "nbformat": 4,
 "nbformat_minor": 2
}
