{
 "cells": [
  {
   "cell_type": "markdown",
   "metadata": {},
   "source": [
    "# Projet de Simulation et Monte Carlo  \n",
    "  \n",
    "  Ce projet se base sur l'arcticle de Yuyang Shi et Rob Cornish : On Multilevel Monte Carlo Unbiased Gradient Estimation For Deep Latent Variable Models (2021) http://proceedings.mlr.press/v130/shi21d.html"
   ]
  },
  {
   "cell_type": "code",
   "execution_count": null,
   "metadata": {},
   "outputs": [],
   "source": [
    "import numpy as np\n",
    "from scipy.stats import multivariate_normal\n",
    "from scipy.special import logsumexp\n",
    "import matplotlib.pyplot as plt\n",
    "import random"
   ]
  },
  {
   "cell_type": "markdown",
   "metadata": {},
   "source": [
    "## Partie 1 : Génération des données \n",
    "Comme dit dans l'article, nous étudions les modèles à variables latentes. pour pouvoir générer les données, nous considérerons une expérience gaussienne linéaire de la même manière que Rainforth et al. (2018) et Tucker et al. (2019)  \n",
    "\n",
    "   On considère le modèle génératif suivant : $p_{\\theta}(x,z)= \\mathcal{N}(z|\\theta,I)\\mathcal{N}(x|z,I)$ où $x,z \\in \\mathbb{R^{20}}$ tel que $p_{\\theta}(x)= \\mathcal{N}(x|\\theta,2I)$ et $p_{\\theta}(z|x)= \\mathcal{N}(\\frac{\\theta+x}{2},\\frac{1}{2}I)$. La distribution de l'encodeur est $q_{\\phi}(z|x)=\\mathcal{N}(z|Ax+b,\\frac{2}{3}I)$, où $\\phi = (A,b)$. On considère une perturbation aléatoire des paramètres autour de la valeur optimale par une gaussienne centré de variance 0.01.\n",
    "    "
   ]
  },
  {
   "cell_type": "code",
   "execution_count": null,
   "metadata": {},
   "outputs": [],
   "source": [
    "theta = np.random.normal(0, 1)\n",
    "theta_vector = np.zeros(20)+theta\n",
    "r = 0.6\n",
    "A_true = 1/2*np.eye(20)\n",
    "b_true = np.zeros(20)+theta/2\n",
    "X_data = multivariate_normal.rvs(theta_vector, 2*np.eye(20))\n",
    "print('theta = ' + str(theta))"
   ]
  },
  {
   "cell_type": "code",
   "execution_count": null,
   "metadata": {},
   "outputs": [],
   "source": [
    "def parameter_perturbation(A, b):\n",
    "    return (A+np.eye(20)*np.random.normal(0, 0.01), b+np.random.normal(0, 0.01))"
   ]
  },
  {
   "cell_type": "code",
   "execution_count": null,
   "metadata": {},
   "outputs": [],
   "source": [
    "def generate_z(K, A, b, x):\n",
    "    Z = []\n",
    "    for i in range(2**(K+1)):\n",
    "        Z.append(multivariate_normal.rvs(np.dot(A,x)+b, 2/3*np.eye(20)))\n",
    "    Z_O = Z[1::2]\n",
    "    Z_E = Z[::2]\n",
    "    return Z,Z_O,Z_E"
   ]
  },
  {
   "cell_type": "code",
   "execution_count": null,
   "metadata": {},
   "outputs": [],
   "source": [
    "def q_phi(z, A, b, K, x):\n",
    "    q = []\n",
    "    for i in range(2**(K+1)):\n",
    "        q.append(multivariate_normal.pdf(z[i], np.dot(A,x)+b, 2/3*np.eye(20)))\n",
    "    return np.array(q)"
   ]
  },
  {
   "cell_type": "code",
   "execution_count": null,
   "metadata": {},
   "outputs": [],
   "source": [
    "def p_joint(z, K, x, mu):\n",
    "    p = []\n",
    "    mu_vector = np.zeros(20)+mu\n",
    "    for i in range(2**(K+1)):\n",
    "        p.append(multivariate_normal.pdf(z[i], mu_vector, np.eye(20))*multivariate_normal.pdf(x,z[i],np.eye(20)))\n",
    "    return np.array(p)"
   ]
  },
  {
   "cell_type": "markdown",
   "metadata": {},
   "source": [
    "## Partie 2 : Estimation de la vraisemblance  \n",
    "  \n",
    "  Dans cette partie, nous allons reproduire les estimateurs IWAE, SS, RR et SUMO cités dans l'article"
   ]
  },
  {
   "cell_type": "markdown",
   "metadata": {},
   "source": [
    "### 1) Estimateur SS"
   ]
  },
  {
   "cell_type": "markdown",
   "metadata": {},
   "source": [
    "#### Définition de l'estimateur SS : "
   ]
  },
  {
   "cell_type": "markdown",
   "metadata": {},
   "source": [
    "Nous définissions ici l'estimateur SS "
   ]
  },
  {
   "cell_type": "code",
   "execution_count": null,
   "metadata": {},
   "outputs": [],
   "source": [
    "def SS_estimator(A, b, x, mu, N_sim):\n",
    "    list_ss = []\n",
    "    for i in range(N_sim):\n",
    "        K = np.random.geometric(r)\n",
    "        Z_data, Z_data_O, Z_data_E = generate_z(K, A, b, x)\n",
    "        q = q_phi(Z_data, A, b, K, x)\n",
    "        p = p_joint(Z_data, K, x, mu)\n",
    "        w = p/q\n",
    "        log_w = np.log(w)\n",
    "        log_w_O = log_w[1::2]\n",
    "        log_w_E = log_w[::2]\n",
    "        I0 = np.mean(log_w)\n",
    "        l_O = logsumexp(log_w_O) - np.log(len(log_w_O))\n",
    "        l_E = logsumexp(log_w_E) - np.log(len(log_w_E))\n",
    "        l_OUE = logsumexp(log_w) - np.log(len(log_w))\n",
    "        delta_K = l_OUE - 0.5*(l_O + l_E)\n",
    "        list_ss.append(I0 + delta_K/(r*(1-r)**(K-1)))\n",
    "    return np.mean(list_ss)"
   ]
  },
  {
   "cell_type": "markdown",
   "metadata": {},
   "source": [
    "#### Valeur de l'estimateur SS pour le vrai phi :"
   ]
  },
  {
   "cell_type": "code",
   "execution_count": null,
   "metadata": {},
   "outputs": [],
   "source": [
    "SS_estimator(A_true, b_true, X_data, 1.31,1000)"
   ]
  },
  {
   "cell_type": "markdown",
   "metadata": {},
   "source": [
    "#### Simulation de plusieurs phi et simulation des estimateurs SS correspondants :"
   ]
  },
  {
   "cell_type": "code",
   "execution_count": null,
   "metadata": {},
   "outputs": [],
   "source": [
    "u = np.linspace(-4,4,100)\n",
    "\n",
    "A_perturbed, b_perturbed = A_true, b_true\n",
    "for i in range(10):\n",
    "    A_perturbed, b_perturbed = parameter_perturbation(A_perturbed, b_perturbed)\n",
    "    \n",
    "SS_estim_phisim = []\n",
    "for i in range(100):\n",
    "    SS_estim_phisim.append(SS_estimator(A_perturbed, b_perturbed, X_data, u[i],1000))"
   ]
  },
  {
   "cell_type": "markdown",
   "metadata": {},
   "source": [
    "#### Simulation estimateur Vraissemblance pour les phi simulés :"
   ]
  },
  {
   "cell_type": "code",
   "execution_count": null,
   "metadata": {},
   "outputs": [],
   "source": [
    "def log_likelihood(X_data,mu):\n",
    "    mu_vector = np.zeros(20)+mu\n",
    "    return -10*np.log(2*np.pi)-0.5*np.log(4)-0.5*np.dot(np.transpose(X_data-mu_vector),X_data-mu_vector)"
   ]
  },
  {
   "cell_type": "code",
   "execution_count": null,
   "metadata": {},
   "outputs": [],
   "source": [
    "LL_estim_phisim = []\n",
    "for i in range(100):\n",
    "    LL_estim_phisim.append(log_likelihood(X_data,u[i]))"
   ]
  },
  {
   "cell_type": "markdown",
   "metadata": {},
   "source": [
    "#### Visualisation graphique des estimateurs VD et HG :"
   ]
  },
  {
   "cell_type": "code",
   "execution_count": null,
   "metadata": {},
   "outputs": [],
   "source": [
    "plt.plot(u,HG,label='HG')\n",
    "plt.plot(u,VD,label='VD')\n",
    "plt.xlabel(\"phi simulés\")\n",
    "plt.ylabel(\"estimateurs LL et SS correspondants\")\n",
    "plt.legend(loc='upper right',fontsize='10')"
   ]
  },
  {
   "cell_type": "markdown",
   "metadata": {},
   "source": [
    "## Estim RR "
   ]
  },
  {
   "cell_type": "code",
   "execution_count": null,
   "metadata": {},
   "outputs": [],
   "source": [
    "def RR_estimator(A, b, x, mu, N_sim):\n",
    "    list_rr = []\n",
    "    for i in range(N_sim):\n",
    "        Sum=0\n",
    "        K = np.random.geometric(r)\n",
    "        for l in range(K+1):\n",
    "            Z_data, Z_data_O, Z_data_E = generate_z(l, A, b, x)\n",
    "            q = q_phi(Z_data, A, b, l, x)\n",
    "            p = p_joint(Z_data, l, x, mu)\n",
    "            w = p/q\n",
    "            log_w = np.log(w)\n",
    "            log_w_O = log_w[1::2]\n",
    "            log_w_E = log_w[::2]\n",
    "            I0 = np.mean(log_w)\n",
    "            l_O = logsumexp(log_w_O) - np.log(len(log_w_O))\n",
    "            l_E = logsumexp(log_w_E) - np.log(len(log_w_E))\n",
    "            l_OUE = logsumexp(log_w) - np.log(len(log_w))\n",
    "            delta_l = l_OUE - 0.5*(l_O + l_E)\n",
    "            Sum = Sum + delta_l/((1-r)**min(l-1,0))\n",
    "        list_rr.append(I0 + Sum)\n",
    "    return np.mean(list_rr)"
   ]
  },
  {
   "cell_type": "code",
   "execution_count": null,
   "metadata": {},
   "outputs": [],
   "source": [
    "RR_estimator(A_true, b_true, X_data, 1.31,1000)"
   ]
  },
  {
   "cell_type": "code",
   "execution_count": null,
   "metadata": {},
   "outputs": [],
   "source": [
    "u = np.linspace(-4,4,100)\n",
    "\n",
    "A_perturbed, b_perturbed = A_true, b_true\n",
    "for i in range(10):\n",
    "    A_perturbed, b_perturbed = parameter_perturbation(A_perturbed, b_perturbed)\n",
    "    \n",
    "RR_estim_phisim = []\n",
    "for i in range(100):\n",
    "    RR_estim_phisim.append(RR_estimator(A_perturbed, b_perturbed, X_data, u[i],1000))"
   ]
  },
  {
   "cell_type": "code",
   "execution_count": null,
   "metadata": {},
   "outputs": [],
   "source": [
    "def log_likelihood(X_data,mu):\n",
    "    mu_vector = np.zeros(20)+mu\n",
    "    return -10*np.log(2*np.pi)-0.5*np.log(4)-0.5*np.dot(np.transpose(X_data-mu_vector),X_data-mu_vector)\n",
    "\n",
    "LL_estim_phisim = []\n",
    "for i in range(100):\n",
    "    LL_estim_phisim.append(log_likelihood(X_data,u[i]))"
   ]
  },
  {
   "cell_type": "code",
   "execution_count": null,
   "metadata": {},
   "outputs": [],
   "source": [
    "plt.plot(u,LL_estim_phisim,label='LL')\n",
    "plt.plot(u,RR_estim_phisim,label='RR')\n",
    "plt.xlabel(\"phi simulés\")\n",
    "plt.ylabel(\"estimateurs LL et RR correspondants\")\n",
    "plt.legend(loc='upper right',fontsize='10')"
   ]
  },
  {
   "cell_type": "code",
   "execution_count": null,
   "metadata": {},
   "outputs": [],
   "source": []
  },
  {
   "cell_type": "code",
   "execution_count": null,
   "metadata": {},
   "outputs": [],
   "source": []
  }
 ],
 "metadata": {
  "kernelspec": {
   "display_name": "Python 3 (ipykernel)",
   "language": "python",
   "name": "python3"
  },
  "language_info": {
   "codemirror_mode": {
    "name": "ipython",
    "version": 3
   },
   "file_extension": ".py",
   "mimetype": "text/x-python",
   "name": "python",
   "nbconvert_exporter": "python",
   "pygments_lexer": "ipython3",
   "version": "3.11.6"
  }
 },
 "nbformat": 4,
 "nbformat_minor": 4
}
